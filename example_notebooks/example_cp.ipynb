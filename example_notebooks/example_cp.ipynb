{
 "cells": [
  {
   "cell_type": "markdown",
   "metadata": {},
   "source": [
    "# Example of CellProfiler project for idrstream"
   ]
  },
  {
   "cell_type": "markdown",
   "metadata": {},
   "source": [
    "## Import Libraries"
   ]
  },
  {
   "cell_type": "code",
   "execution_count": 1,
   "metadata": {},
   "outputs": [],
   "source": [
    "import pathlib\n",
    "import pandas as pd\n",
    "import shutil\n",
    "\n",
    "from cellpose import core\n",
    "\n",
    "import sys\n",
    "sys.path.append(\"../\")\n",
    "from idrstream.CP_idr import CellProfilerRun"
   ]
  },
  {
   "cell_type": "markdown",
   "metadata": {},
   "source": [
    "## Initialize idrstream"
   ]
  },
  {
   "cell_type": "code",
   "execution_count": 2,
   "metadata": {},
   "outputs": [],
   "source": [
    "pipeline_path = pathlib.Path(\"example_files/CP_files/mitocheck_idr_cp.cppipe\")\n",
    "# need to fill in on fig\n",
    "plugins_directory = pathlib.Path(\"../idrstream/CP_Plugins/\")\n",
    "idr_id = \"idr0013\"\n",
    "tmp_dir = pathlib.Path(\"../tmp/\")\n",
    "final_data_dir = pathlib.Path(\"../mitocheck_control_features/CP_features_negative_control\")\n",
    "try:\n",
    "    shutil.rmtree(tmp_dir)\n",
    "    # uncomment the line below if you would like to remove the final data directory (e.g. all .csv.gz files)\n",
    "    # shutil.rmtree(final_data_dir)\n",
    "except:\n",
    "    print(\"No files to remove\")\n",
    "\n",
    "stream = CellProfilerRun(pipeline_path, plugins_directory, idr_id, tmp_dir, final_data_dir, log='example_logs/cp_idrstream.log')"
   ]
  },
  {
   "cell_type": "markdown",
   "metadata": {},
   "source": [
    "## Initialize CellProfiler metadata compiler"
   ]
  },
  {
   "cell_type": "code",
   "execution_count": 3,
   "metadata": {},
   "outputs": [],
   "source": [
    "data_to_process_tsv = pathlib.Path(\"example_files/data_to_process.tsv\")\n",
    "metadata_save_path = pathlib.Path(\"example_files/data_to_process.csv\")\n",
    "\n",
    "stream.convert_tsv_to_csv(data_to_process_tsv, metadata_save_path)"
   ]
  },
  {
   "cell_type": "markdown",
   "metadata": {},
   "source": [
    "## Load in metadata"
   ]
  },
  {
   "cell_type": "code",
   "execution_count": 4,
   "metadata": {},
   "outputs": [
    {
     "data": {
      "text/html": [
       "<div>\n",
       "<style scoped>\n",
       "    .dataframe tbody tr th:only-of-type {\n",
       "        vertical-align: middle;\n",
       "    }\n",
       "\n",
       "    .dataframe tbody tr th {\n",
       "        vertical-align: top;\n",
       "    }\n",
       "\n",
       "    .dataframe thead th {\n",
       "        text-align: right;\n",
       "    }\n",
       "</style>\n",
       "<table border=\"1\" class=\"dataframe\">\n",
       "  <thead>\n",
       "    <tr style=\"text-align: right;\">\n",
       "      <th></th>\n",
       "      <th>Plate</th>\n",
       "      <th>Well</th>\n",
       "      <th>Frames</th>\n",
       "      <th>Well Number</th>\n",
       "      <th>Control Type</th>\n",
       "      <th>Original Gene Target</th>\n",
       "      <th>Plate_Map_Name</th>\n",
       "      <th>Gene_Replicate</th>\n",
       "      <th>Site</th>\n",
       "      <th>DNA</th>\n",
       "    </tr>\n",
       "  </thead>\n",
       "  <tbody>\n",
       "    <tr>\n",
       "      <th>0</th>\n",
       "      <td>LT0001_02</td>\n",
       "      <td>A15</td>\n",
       "      <td>43</td>\n",
       "      <td>15</td>\n",
       "      <td>negative control</td>\n",
       "      <td>negative control</td>\n",
       "      <td>LT0001_02_15</td>\n",
       "      <td>1</td>\n",
       "      <td>1</td>\n",
       "      <td>LT0001_02/LT0001_02_15_43.tif</td>\n",
       "    </tr>\n",
       "    <tr>\n",
       "      <th>1</th>\n",
       "      <td>LT0001_02</td>\n",
       "      <td>B2</td>\n",
       "      <td>46</td>\n",
       "      <td>26</td>\n",
       "      <td>negative control</td>\n",
       "      <td>negative control</td>\n",
       "      <td>LT0001_02_26</td>\n",
       "      <td>1</td>\n",
       "      <td>1</td>\n",
       "      <td>LT0001_02/LT0001_02_26_46.tif</td>\n",
       "    </tr>\n",
       "    <tr>\n",
       "      <th>2</th>\n",
       "      <td>LT0001_02</td>\n",
       "      <td>C15</td>\n",
       "      <td>52</td>\n",
       "      <td>63</td>\n",
       "      <td>negative control</td>\n",
       "      <td>negative control</td>\n",
       "      <td>LT0001_02_63</td>\n",
       "      <td>1</td>\n",
       "      <td>1</td>\n",
       "      <td>LT0001_02/LT0001_02_63_52.tif</td>\n",
       "    </tr>\n",
       "    <tr>\n",
       "      <th>3</th>\n",
       "      <td>LT0001_02</td>\n",
       "      <td>D2</td>\n",
       "      <td>31</td>\n",
       "      <td>74</td>\n",
       "      <td>negative control</td>\n",
       "      <td>negative control</td>\n",
       "      <td>LT0001_02_74</td>\n",
       "      <td>1</td>\n",
       "      <td>1</td>\n",
       "      <td>LT0001_02/LT0001_02_74_31.tif</td>\n",
       "    </tr>\n",
       "    <tr>\n",
       "      <th>4</th>\n",
       "      <td>LT0001_02</td>\n",
       "      <td>M16</td>\n",
       "      <td>34</td>\n",
       "      <td>304</td>\n",
       "      <td>negative control</td>\n",
       "      <td>negative control</td>\n",
       "      <td>LT0001_02_304</td>\n",
       "      <td>1</td>\n",
       "      <td>1</td>\n",
       "      <td>LT0001_02/LT0001_02_304_34.tif</td>\n",
       "    </tr>\n",
       "    <tr>\n",
       "      <th>...</th>\n",
       "      <td>...</td>\n",
       "      <td>...</td>\n",
       "      <td>...</td>\n",
       "      <td>...</td>\n",
       "      <td>...</td>\n",
       "      <td>...</td>\n",
       "      <td>...</td>\n",
       "      <td>...</td>\n",
       "      <td>...</td>\n",
       "      <td>...</td>\n",
       "    </tr>\n",
       "    <tr>\n",
       "      <th>3848</th>\n",
       "      <td>LT0603_06</td>\n",
       "      <td>D2</td>\n",
       "      <td>51</td>\n",
       "      <td>74</td>\n",
       "      <td>negative control</td>\n",
       "      <td>negative control</td>\n",
       "      <td>LT0603_06_74</td>\n",
       "      <td>1</td>\n",
       "      <td>1</td>\n",
       "      <td>LT0603_06/LT0603_06_74_51.tif</td>\n",
       "    </tr>\n",
       "    <tr>\n",
       "      <th>3849</th>\n",
       "      <td>LT0603_06</td>\n",
       "      <td>M16</td>\n",
       "      <td>52</td>\n",
       "      <td>304</td>\n",
       "      <td>negative control</td>\n",
       "      <td>negative control</td>\n",
       "      <td>LT0603_06_304</td>\n",
       "      <td>1</td>\n",
       "      <td>1</td>\n",
       "      <td>LT0603_06/LT0603_06_304_52.tif</td>\n",
       "    </tr>\n",
       "    <tr>\n",
       "      <th>3850</th>\n",
       "      <td>LT0603_06</td>\n",
       "      <td>N3</td>\n",
       "      <td>49</td>\n",
       "      <td>315</td>\n",
       "      <td>negative control</td>\n",
       "      <td>negative control</td>\n",
       "      <td>LT0603_06_315</td>\n",
       "      <td>1</td>\n",
       "      <td>1</td>\n",
       "      <td>LT0603_06/LT0603_06_315_49.tif</td>\n",
       "    </tr>\n",
       "    <tr>\n",
       "      <th>3851</th>\n",
       "      <td>LT0603_06</td>\n",
       "      <td>O16</td>\n",
       "      <td>47</td>\n",
       "      <td>352</td>\n",
       "      <td>negative control</td>\n",
       "      <td>negative control</td>\n",
       "      <td>LT0603_06_352</td>\n",
       "      <td>1</td>\n",
       "      <td>1</td>\n",
       "      <td>LT0603_06/LT0603_06_352_47.tif</td>\n",
       "    </tr>\n",
       "    <tr>\n",
       "      <th>3852</th>\n",
       "      <td>LT0603_06</td>\n",
       "      <td>P3</td>\n",
       "      <td>44</td>\n",
       "      <td>363</td>\n",
       "      <td>negative control</td>\n",
       "      <td>negative control</td>\n",
       "      <td>LT0603_06_363</td>\n",
       "      <td>1</td>\n",
       "      <td>1</td>\n",
       "      <td>LT0603_06/LT0603_06_363_44.tif</td>\n",
       "    </tr>\n",
       "  </tbody>\n",
       "</table>\n",
       "<p>3853 rows × 10 columns</p>\n",
       "</div>"
      ],
      "text/plain": [
       "          Plate Well  Frames  Well Number      Control Type  \\\n",
       "0     LT0001_02  A15      43           15  negative control   \n",
       "1     LT0001_02   B2      46           26  negative control   \n",
       "2     LT0001_02  C15      52           63  negative control   \n",
       "3     LT0001_02   D2      31           74  negative control   \n",
       "4     LT0001_02  M16      34          304  negative control   \n",
       "...         ...  ...     ...          ...               ...   \n",
       "3848  LT0603_06   D2      51           74  negative control   \n",
       "3849  LT0603_06  M16      52          304  negative control   \n",
       "3850  LT0603_06   N3      49          315  negative control   \n",
       "3851  LT0603_06  O16      47          352  negative control   \n",
       "3852  LT0603_06   P3      44          363  negative control   \n",
       "\n",
       "     Original Gene Target Plate_Map_Name  Gene_Replicate  Site  \\\n",
       "0        negative control   LT0001_02_15               1     1   \n",
       "1        negative control   LT0001_02_26               1     1   \n",
       "2        negative control   LT0001_02_63               1     1   \n",
       "3        negative control   LT0001_02_74               1     1   \n",
       "4        negative control  LT0001_02_304               1     1   \n",
       "...                   ...            ...             ...   ...   \n",
       "3848     negative control   LT0603_06_74               1     1   \n",
       "3849     negative control  LT0603_06_304               1     1   \n",
       "3850     negative control  LT0603_06_315               1     1   \n",
       "3851     negative control  LT0603_06_352               1     1   \n",
       "3852     negative control  LT0603_06_363               1     1   \n",
       "\n",
       "                                 DNA  \n",
       "0      LT0001_02/LT0001_02_15_43.tif  \n",
       "1      LT0001_02/LT0001_02_26_46.tif  \n",
       "2      LT0001_02/LT0001_02_63_52.tif  \n",
       "3      LT0001_02/LT0001_02_74_31.tif  \n",
       "4     LT0001_02/LT0001_02_304_34.tif  \n",
       "...                              ...  \n",
       "3848   LT0603_06/LT0603_06_74_51.tif  \n",
       "3849  LT0603_06/LT0603_06_304_52.tif  \n",
       "3850  LT0603_06/LT0603_06_315_49.tif  \n",
       "3851  LT0603_06/LT0603_06_352_47.tif  \n",
       "3852  LT0603_06/LT0603_06_363_44.tif  \n",
       "\n",
       "[3853 rows x 10 columns]"
      ]
     },
     "execution_count": 4,
     "metadata": {},
     "output_type": "execute_result"
    }
   ],
   "source": [
    "data_to_process = pd.read_csv(\"example_files/data_to_process.tsv\", sep=\"\\t\", index_col=0)\n",
    "data_to_process"
   ]
  },
  {
   "cell_type": "markdown",
   "metadata": {},
   "source": [
    "## Initialize Aspera downloader"
   ]
  },
  {
   "cell_type": "code",
   "execution_count": 5,
   "metadata": {},
   "outputs": [],
   "source": [
    "# find the path in terminal using `ascli config ascp show`\n",
    "aspera_path = pathlib.Path(\"/home/roshankern/.aspera/ascli/sdk/ascp\")\n",
    "aspera_key_path = pathlib.Path(\"example_files/asperaweb_id_dsa.openssh\")\n",
    "screens_path = pathlib.Path(\"example_files/idr0013-screenA-plates.tsv\")\n",
    "\n",
    "stream.init_downloader(aspera_path, aspera_key_path, screens_path)"
   ]
  },
  {
   "cell_type": "markdown",
   "metadata": {},
   "source": [
    "## Initialize Fiji preprocessor"
   ]
  },
  {
   "cell_type": "code",
   "execution_count": 6,
   "metadata": {},
   "outputs": [
    {
     "name": "stdout",
     "output_type": "stream",
     "text": [
      "[INFO] Overriding Leica ROI Reader; identifier: command:de.biovoxxel.utilities.RoiReader; jar: file:/home/roshankern/Desktop/Fiji.app/plugins/Biovoxxel_Plugins-2.5.6.jar\n"
     ]
    }
   ],
   "source": [
    "fiji_path = pathlib.Path(\"/home/roshankern/Desktop/Fiji.app\")\n",
    "stream.init_preprocessor(fiji_path)"
   ]
  },
  {
   "cell_type": "markdown",
   "metadata": {},
   "source": [
    "## Copy and create CellProfiler files/folders"
   ]
  },
  {
   "cell_type": "code",
   "execution_count": 7,
   "metadata": {},
   "outputs": [],
   "source": [
    "metadata_path = pathlib.Path(\"example_files/data_to_process.csv\")\n",
    "stream.copy_CP_files(metadata_path)"
   ]
  },
  {
   "cell_type": "markdown",
   "metadata": {},
   "source": [
    "## Confirm that GPU is activated for Cellpose to run"
   ]
  },
  {
   "cell_type": "code",
   "execution_count": 8,
   "metadata": {},
   "outputs": [
    {
     "name": "stdout",
     "output_type": "stream",
     "text": [
      ">>> GPU activated? True\n"
     ]
    }
   ],
   "source": [
    "use_GPU = core.use_gpu()\n",
    "print(f\">>> GPU activated? {use_GPU}\")\n",
    "# logger_setup()"
   ]
  },
  {
   "cell_type": "markdown",
   "metadata": {},
   "source": [
    "## Run idrstream batches"
   ]
  },
  {
   "cell_type": "code",
   "execution_count": 9,
   "metadata": {},
   "outputs": [
    {
     "name": "stdout",
     "output_type": "stream",
     "text": [
      "Completed: 87703K bytes transferred in 3 seconds\n",
      " (228543K bits/sec), in 1 file.\n",
      "CellH5Reader initializing /home/roshankern/Desktop/Github/IDR_stream/tmp/downloads/LT0001_02/00015_01.ch5\n",
      "Plate :/sample/0/plate/\n",
      "Well :/sample/0/plate/LT0001_02--ex2005_11_16--sp2005_02_17--tt17--c3/experiment/\n",
      "Site :/sample/0/plate/LT0001_02--ex2005_11_16--sp2005_02_17--tt17--c3/experiment/00015/position/\n",
      "Parse segmentation ROIs for cell object primary__test : 0\n"
     ]
    },
    {
     "name": "stderr",
     "output_type": "stream",
     "text": [
      "Times reported are CPU and Wall-clock times for each module\n",
      "Thu Feb 16 15:40:05 2023: Image # 1, module Images # 1: CPU_time = 0.00 secs, Wall_time = 0.00 secs\n",
      "Thu Feb 16 15:40:05 2023: Image # 1, module Metadata # 2: CPU_time = 0.00 secs, Wall_time = 0.00 secs\n",
      "Thu Feb 16 15:40:05 2023: Image # 1, module NamesAndTypes # 3: CPU_time = 0.42 secs, Wall_time = 0.11 secs\n",
      "Thu Feb 16 15:40:05 2023: Image # 1, module Groups # 4: CPU_time = 0.00 secs, Wall_time = 0.00 secs\n",
      "** TORCH CUDA version installed and working. **\n",
      ">>>> using GPU\n",
      ">> cyto << model set to be used\n",
      ">>>> model diam_mean =  30.000 (ROIs rescaled to this size during training)\n",
      "~~~ ESTIMATING CELL DIAMETER(S) ~~~\n",
      "estimated cell diameter(s) in 2.92 sec\n",
      ">>> diameter(s) = \n",
      "[ 27.03 ]\n",
      "~~~ FINDING MASKS ~~~\n",
      ">>>> TOTAL TIME 3.59 sec\n",
      "Thu Feb 16 15:40:05 2023: Image # 1, module RunCellpose # 5: CPU_time = 4.80 secs, Wall_time = 4.62 secs\n",
      "/home/roshankern/anaconda3/envs/idrstream_cp/lib/python3.8/site-packages/cellprofiler/modules/measuregranularity.py:342: FutureWarning: `selem` is a deprecated argument name for `erosion`. It will be removed in version 1.0. Please use `footprint` instead.\n",
      "  back_pixels = skimage.morphology.erosion(back_pixels_mask, selem=selem)\n",
      "/home/roshankern/anaconda3/envs/idrstream_cp/lib/python3.8/site-packages/cellprofiler/modules/measuregranularity.py:345: FutureWarning: `selem` is a deprecated argument name for `dilation`. It will be removed in version 1.0. Please use `footprint` instead.\n",
      "  back_pixels = skimage.morphology.dilation(back_pixels_mask, selem=selem)\n",
      "/home/roshankern/anaconda3/envs/idrstream_cp/lib/python3.8/site-packages/cellprofiler/modules/measuregranularity.py:424: FutureWarning: `selem` is a deprecated argument name for `erosion`. It will be removed in version 1.0. Please use `footprint` instead.\n",
      "  ero = skimage.morphology.erosion(ero_mask, selem=footprint)\n",
      "/home/roshankern/anaconda3/envs/idrstream_cp/lib/python3.8/site-packages/cellprofiler/modules/measuregranularity.py:425: FutureWarning: `selem` is a deprecated argument name for `reconstruction`. It will be removed in version 1.0. Please use `footprint` instead.\n",
      "  rec = skimage.morphology.reconstruction(ero, pixels, selem=footprint)\n",
      "Thu Feb 16 15:40:09 2023: Image # 1, module MeasureGranularity # 6: CPU_time = 1.23 secs, Wall_time = 1.23 secs\n",
      "Thu Feb 16 15:40:11 2023: Image # 1, module MeasureObjectIntensity # 7: CPU_time = 0.09 secs, Wall_time = 0.10 secs\n",
      "Thu Feb 16 15:40:11 2023: Image # 1, module MeasureImageIntensity # 8: CPU_time = 0.02 secs, Wall_time = 0.01 secs\n",
      "Thu Feb 16 15:40:11 2023: Image # 1, module MeasureObjectNeighbors # 9: CPU_time = 0.19 secs, Wall_time = 0.18 secs\n",
      "Thu Feb 16 15:40:11 2023: Image # 1, module MeasureObjectIntensityDistribution # 10: CPU_time = 0.36 secs, Wall_time = 0.36 secs\n",
      "Thu Feb 16 15:40:11 2023: Image # 1, module MeasureObjectSizeShape # 11: CPU_time = 0.92 secs, Wall_time = 0.92 secs\n",
      "Thu Feb 16 15:40:12 2023: Image # 1, module MeasureTexture # 12: CPU_time = 10.06 secs, Wall_time = 0.50 secs\n",
      "Thu Feb 16 15:40:13 2023: Image # 1, module ExportToSpreadsheet # 13: CPU_time = 0.00 secs, Wall_time = 0.00 secs\n"
     ]
    }
   ],
   "source": [
    "stream.run_cp_stream(data_to_process, batch_size=1, start_batch=0, batch_nums=[0])"
   ]
  }
 ],
 "metadata": {
  "kernelspec": {
   "display_name": "idrstream_cp",
   "language": "python",
   "name": "python3"
  },
  "language_info": {
   "codemirror_mode": {
    "name": "ipython",
    "version": 3
   },
   "file_extension": ".py",
   "mimetype": "text/x-python",
   "name": "python",
   "nbconvert_exporter": "python",
   "pygments_lexer": "ipython3",
   "version": "3.8.13"
  },
  "orig_nbformat": 4,
  "vscode": {
   "interpreter": {
    "hash": "293e2d92c37ac7b8bc45d856b73f71c94f14d1d99e7470b850dc25d0270fce15"
   }
  }
 },
 "nbformat": 4,
 "nbformat_minor": 2
}
