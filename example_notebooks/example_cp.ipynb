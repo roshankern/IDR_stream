{
 "cells": [
  {
   "cell_type": "markdown",
   "metadata": {},
   "source": [
    "# Example of CellProfiler project for idrstream"
   ]
  },
  {
   "cell_type": "markdown",
   "metadata": {},
   "source": [
    "## Import Libraries"
   ]
  },
  {
   "cell_type": "code",
   "execution_count": 1,
   "metadata": {},
   "outputs": [],
   "source": [
    "import pathlib\n",
    "import pandas as pd\n",
    "import shutil\n",
    "\n",
    "from cellpose import core\n",
    "\n",
    "import sys\n",
    "sys.path.append(\"../\")\n",
    "from idrstream.CP_idr import CellProfilerRun"
   ]
  },
  {
   "cell_type": "markdown",
   "metadata": {},
   "source": [
    "## Initialize idrstream"
   ]
  },
  {
   "cell_type": "code",
   "execution_count": 2,
   "metadata": {},
   "outputs": [],
   "source": [
    "# path to users home directory\n",
    "home_dir = pathlib.Path.home()\n",
    "\n",
    "pipeline_path = pathlib.Path(\"example_files/CP_files/mitocheck_idr_cp.cppipe\")\n",
    "# need to fill in on fig\n",
    "plugins_directory = pathlib.Path(\"../idrstream/CP_Plugins\")\n",
    "idr_id = \"idr0013\"\n",
    "tmp_dir = pathlib.Path(\"../tmp_working/\")\n",
    "final_data_dir = pathlib.Path(\"../example_extracted_features/mitocheck_features\")\n",
    "try:\n",
    "    shutil.rmtree(tmp_dir)\n",
    "    # uncomment the line below if you would like to remove the final data directory (e.g. all .csv.gz files)\n",
    "    # shutil.rmtree(final_data_dir)\n",
    "except:\n",
    "    print(\"No files to remove\")\n",
    "\n",
    "stream = CellProfilerRun(pipeline_path, plugins_directory, idr_id, tmp_dir, final_data_dir, log='example_logs/cp_idrstream.log')"
   ]
  },
  {
   "cell_type": "markdown",
   "metadata": {},
   "source": [
    "## Initialize CellProfiler metadata compiler"
   ]
  },
  {
   "cell_type": "code",
   "execution_count": 3,
   "metadata": {},
   "outputs": [],
   "source": [
    "data_to_process_tsv = pathlib.Path(\"example_files/data_to_process.tsv\")\n",
    "metadata_save_path = pathlib.Path(\"example_files/data_to_process.csv\")\n",
    "\n",
    "stream.convert_tsv_to_csv(data_to_process_tsv, metadata_save_path)"
   ]
  },
  {
   "cell_type": "markdown",
   "metadata": {},
   "source": [
    "## Load in metadata"
   ]
  },
  {
   "cell_type": "code",
   "execution_count": 4,
   "metadata": {},
   "outputs": [
    {
     "data": {
      "text/html": [
       "<div>\n",
       "<style scoped>\n",
       "    .dataframe tbody tr th:only-of-type {\n",
       "        vertical-align: middle;\n",
       "    }\n",
       "\n",
       "    .dataframe tbody tr th {\n",
       "        vertical-align: top;\n",
       "    }\n",
       "\n",
       "    .dataframe thead th {\n",
       "        text-align: right;\n",
       "    }\n",
       "</style>\n",
       "<table border=\"1\" class=\"dataframe\">\n",
       "  <thead>\n",
       "    <tr style=\"text-align: right;\">\n",
       "      <th></th>\n",
       "      <th>Plate</th>\n",
       "      <th>Well</th>\n",
       "      <th>Frames</th>\n",
       "      <th>Well Number</th>\n",
       "      <th>Control Type</th>\n",
       "      <th>Original Gene Target</th>\n",
       "      <th>Plate_Map_Name</th>\n",
       "      <th>Gene_Replicate</th>\n",
       "      <th>Site</th>\n",
       "      <th>DNA</th>\n",
       "    </tr>\n",
       "  </thead>\n",
       "  <tbody>\n",
       "    <tr>\n",
       "      <th>0</th>\n",
       "      <td>LT0001_02</td>\n",
       "      <td>A4</td>\n",
       "      <td>50</td>\n",
       "      <td>4</td>\n",
       "      <td>positive control</td>\n",
       "      <td>ENSG00000149503</td>\n",
       "      <td>LT0001_02_4</td>\n",
       "      <td>1</td>\n",
       "      <td>1</td>\n",
       "      <td>LT0001_02/LT0001_02_4_50.tif</td>\n",
       "    </tr>\n",
       "    <tr>\n",
       "      <th>1</th>\n",
       "      <td>LT0001_02</td>\n",
       "      <td>A15</td>\n",
       "      <td>50</td>\n",
       "      <td>15</td>\n",
       "      <td>negative control</td>\n",
       "      <td>negative control</td>\n",
       "      <td>LT0001_02_15</td>\n",
       "      <td>1</td>\n",
       "      <td>1</td>\n",
       "      <td>LT0001_02/LT0001_02_15_50.tif</td>\n",
       "    </tr>\n",
       "    <tr>\n",
       "      <th>2</th>\n",
       "      <td>LT0001_02</td>\n",
       "      <td>B2</td>\n",
       "      <td>50</td>\n",
       "      <td>26</td>\n",
       "      <td>negative control</td>\n",
       "      <td>negative control</td>\n",
       "      <td>LT0001_02_26</td>\n",
       "      <td>1</td>\n",
       "      <td>1</td>\n",
       "      <td>LT0001_02/LT0001_02_26_50.tif</td>\n",
       "    </tr>\n",
       "    <tr>\n",
       "      <th>3</th>\n",
       "      <td>LT0001_02</td>\n",
       "      <td>C1</td>\n",
       "      <td>50</td>\n",
       "      <td>49</td>\n",
       "      <td>positive control</td>\n",
       "      <td>ENSG00000149503</td>\n",
       "      <td>LT0001_02_49</td>\n",
       "      <td>1</td>\n",
       "      <td>1</td>\n",
       "      <td>LT0001_02/LT0001_02_49_50.tif</td>\n",
       "    </tr>\n",
       "    <tr>\n",
       "      <th>4</th>\n",
       "      <td>LT0001_02</td>\n",
       "      <td>C4</td>\n",
       "      <td>50</td>\n",
       "      <td>52</td>\n",
       "      <td>positive control</td>\n",
       "      <td>ENSG00000149503</td>\n",
       "      <td>LT0001_02_52</td>\n",
       "      <td>1</td>\n",
       "      <td>1</td>\n",
       "      <td>LT0001_02/LT0001_02_52_50.tif</td>\n",
       "    </tr>\n",
       "    <tr>\n",
       "      <th>...</th>\n",
       "      <td>...</td>\n",
       "      <td>...</td>\n",
       "      <td>...</td>\n",
       "      <td>...</td>\n",
       "      <td>...</td>\n",
       "      <td>...</td>\n",
       "      <td>...</td>\n",
       "      <td>...</td>\n",
       "      <td>...</td>\n",
       "      <td>...</td>\n",
       "    </tr>\n",
       "    <tr>\n",
       "      <th>6738</th>\n",
       "      <td>LT0603_06</td>\n",
       "      <td>O13</td>\n",
       "      <td>50</td>\n",
       "      <td>349</td>\n",
       "      <td>positive control</td>\n",
       "      <td>KIF11</td>\n",
       "      <td>LT0603_06_349</td>\n",
       "      <td>1</td>\n",
       "      <td>1</td>\n",
       "      <td>LT0603_06/LT0603_06_349_50.tif</td>\n",
       "    </tr>\n",
       "    <tr>\n",
       "      <th>6739</th>\n",
       "      <td>LT0603_06</td>\n",
       "      <td>O16</td>\n",
       "      <td>50</td>\n",
       "      <td>352</td>\n",
       "      <td>negative control</td>\n",
       "      <td>negative control</td>\n",
       "      <td>LT0603_06_352</td>\n",
       "      <td>1</td>\n",
       "      <td>1</td>\n",
       "      <td>LT0603_06/LT0603_06_352_50.tif</td>\n",
       "    </tr>\n",
       "    <tr>\n",
       "      <th>6740</th>\n",
       "      <td>LT0603_06</td>\n",
       "      <td>P3</td>\n",
       "      <td>50</td>\n",
       "      <td>363</td>\n",
       "      <td>negative control</td>\n",
       "      <td>negative control</td>\n",
       "      <td>LT0603_06_363</td>\n",
       "      <td>1</td>\n",
       "      <td>1</td>\n",
       "      <td>LT0603_06/LT0603_06_363_50.tif</td>\n",
       "    </tr>\n",
       "    <tr>\n",
       "      <th>6741</th>\n",
       "      <td>LT0603_06</td>\n",
       "      <td>P21</td>\n",
       "      <td>50</td>\n",
       "      <td>381</td>\n",
       "      <td>positive control</td>\n",
       "      <td>COPB</td>\n",
       "      <td>LT0603_06_381</td>\n",
       "      <td>1</td>\n",
       "      <td>1</td>\n",
       "      <td>LT0603_06/LT0603_06_381_50.tif</td>\n",
       "    </tr>\n",
       "    <tr>\n",
       "      <th>6742</th>\n",
       "      <td>LT0603_06</td>\n",
       "      <td>P24</td>\n",
       "      <td>50</td>\n",
       "      <td>384</td>\n",
       "      <td>positive control</td>\n",
       "      <td>COPB</td>\n",
       "      <td>LT0603_06_384</td>\n",
       "      <td>1</td>\n",
       "      <td>1</td>\n",
       "      <td>LT0603_06/LT0603_06_384_50.tif</td>\n",
       "    </tr>\n",
       "  </tbody>\n",
       "</table>\n",
       "<p>6743 rows × 10 columns</p>\n",
       "</div>"
      ],
      "text/plain": [
       "          Plate Well  Frames  Well Number      Control Type  \\\n",
       "0     LT0001_02   A4      50            4  positive control   \n",
       "1     LT0001_02  A15      50           15  negative control   \n",
       "2     LT0001_02   B2      50           26  negative control   \n",
       "3     LT0001_02   C1      50           49  positive control   \n",
       "4     LT0001_02   C4      50           52  positive control   \n",
       "...         ...  ...     ...          ...               ...   \n",
       "6738  LT0603_06  O13      50          349  positive control   \n",
       "6739  LT0603_06  O16      50          352  negative control   \n",
       "6740  LT0603_06   P3      50          363  negative control   \n",
       "6741  LT0603_06  P21      50          381  positive control   \n",
       "6742  LT0603_06  P24      50          384  positive control   \n",
       "\n",
       "     Original Gene Target Plate_Map_Name  Gene_Replicate  Site  \\\n",
       "0         ENSG00000149503    LT0001_02_4               1     1   \n",
       "1        negative control   LT0001_02_15               1     1   \n",
       "2        negative control   LT0001_02_26               1     1   \n",
       "3         ENSG00000149503   LT0001_02_49               1     1   \n",
       "4         ENSG00000149503   LT0001_02_52               1     1   \n",
       "...                   ...            ...             ...   ...   \n",
       "6738                KIF11  LT0603_06_349               1     1   \n",
       "6739     negative control  LT0603_06_352               1     1   \n",
       "6740     negative control  LT0603_06_363               1     1   \n",
       "6741                 COPB  LT0603_06_381               1     1   \n",
       "6742                 COPB  LT0603_06_384               1     1   \n",
       "\n",
       "                                 DNA  \n",
       "0       LT0001_02/LT0001_02_4_50.tif  \n",
       "1      LT0001_02/LT0001_02_15_50.tif  \n",
       "2      LT0001_02/LT0001_02_26_50.tif  \n",
       "3      LT0001_02/LT0001_02_49_50.tif  \n",
       "4      LT0001_02/LT0001_02_52_50.tif  \n",
       "...                              ...  \n",
       "6738  LT0603_06/LT0603_06_349_50.tif  \n",
       "6739  LT0603_06/LT0603_06_352_50.tif  \n",
       "6740  LT0603_06/LT0603_06_363_50.tif  \n",
       "6741  LT0603_06/LT0603_06_381_50.tif  \n",
       "6742  LT0603_06/LT0603_06_384_50.tif  \n",
       "\n",
       "[6743 rows x 10 columns]"
      ]
     },
     "execution_count": 4,
     "metadata": {},
     "output_type": "execute_result"
    }
   ],
   "source": [
    "data_to_process = pd.read_csv(\"example_files/data_to_process.tsv\", sep=\"\\t\", index_col=0)\n",
    "data_to_process"
   ]
  },
  {
   "cell_type": "markdown",
   "metadata": {},
   "source": [
    "## Initialize Aspera downloader"
   ]
  },
  {
   "cell_type": "code",
   "execution_count": 5,
   "metadata": {},
   "outputs": [],
   "source": [
    "# find the path in terminal using `ascli config ascp show`\n",
    "aspera_path = pathlib.Path(f\"{home_dir}/.aspera/ascli/sdk/ascp\")\n",
    "aspera_key_path = pathlib.Path(\"example_files/asperaweb_id_dsa.openssh\")\n",
    "screens_path = pathlib.Path(\"example_files/idr0013-screenA-plates.tsv\")\n",
    "\n",
    "stream.init_downloader(aspera_path, aspera_key_path, screens_path)"
   ]
  },
  {
   "cell_type": "markdown",
   "metadata": {},
   "source": [
    "## Initialize Fiji preprocessor"
   ]
  },
  {
   "cell_type": "code",
   "execution_count": 6,
   "metadata": {},
   "outputs": [
    {
     "name": "stdout",
     "output_type": "stream",
     "text": [
      "[INFO] Overriding Leica ROI Reader; identifier: command:de.biovoxxel.utilities.RoiReader; jar: file:/home/roshankern/Desktop/Fiji.app/plugins/Biovoxxel_Plugins-2.5.6.jar\n"
     ]
    }
   ],
   "source": [
    "fiji_path = pathlib.Path(f\"{home_dir}/Desktop/Fiji.app\")\n",
    "stream.init_preprocessor(fiji_path)"
   ]
  },
  {
   "cell_type": "markdown",
   "metadata": {},
   "source": [
    "## Copy and create CellProfiler files/folders"
   ]
  },
  {
   "cell_type": "code",
   "execution_count": 7,
   "metadata": {},
   "outputs": [],
   "source": [
    "metadata_path = pathlib.Path(\"example_files/data_to_process.csv\")\n",
    "stream.copy_CP_files(metadata_path)"
   ]
  },
  {
   "cell_type": "markdown",
   "metadata": {},
   "source": [
    "## Confirm that GPU is activated for Cellpose to run"
   ]
  },
  {
   "cell_type": "code",
   "execution_count": 8,
   "metadata": {},
   "outputs": [
    {
     "name": "stdout",
     "output_type": "stream",
     "text": [
      ">>> GPU activated? True\n"
     ]
    }
   ],
   "source": [
    "use_GPU = core.use_gpu()\n",
    "print(f\">>> GPU activated? {use_GPU}\")\n",
    "# logger_setup()"
   ]
  },
  {
   "cell_type": "markdown",
   "metadata": {},
   "source": [
    "## Run idrstream batches"
   ]
  },
  {
   "cell_type": "code",
   "execution_count": 9,
   "metadata": {},
   "outputs": [
    {
     "name": "stdout",
     "output_type": "stream",
     "text": [
      "Completed: 75739K bytes transferred in 2 seconds\n",
      " (213108K bits/sec), in 1 file.\n",
      "CellH5Reader initializing /home/roshankern/Desktop/Github/IDR_stream/tmp_working/downloads/LT0001_02/00004_01.ch5\n",
      "Plate :/sample/0/plate/\n",
      "Well :/sample/0/plate/LT0001_02--ex2005_11_16--sp2005_02_17--tt17--c3/experiment/\n",
      "Site :/sample/0/plate/LT0001_02--ex2005_11_16--sp2005_02_17--tt17--c3/experiment/00004/position/\n",
      "Parse segmentation ROIs for cell object primary__test : 0\n"
     ]
    },
    {
     "name": "stderr",
     "output_type": "stream",
     "text": [
      "Times reported are CPU and Wall-clock times for each module\n",
      "Mon Feb 20 12:31:28 2023: Image # 1, module Images # 1: CPU_time = 0.00 secs, Wall_time = 0.00 secs\n",
      "Mon Feb 20 12:31:28 2023: Image # 1, module Metadata # 2: CPU_time = 0.00 secs, Wall_time = 0.00 secs\n",
      "Mon Feb 20 12:31:28 2023: Image # 1, module NamesAndTypes # 3: CPU_time = 0.50 secs, Wall_time = 0.11 secs\n",
      "Mon Feb 20 12:31:28 2023: Image # 1, module Groups # 4: CPU_time = 0.00 secs, Wall_time = 0.00 secs\n",
      "** TORCH CUDA version installed and working. **\n",
      ">>>> using GPU\n",
      ">> cyto << model set to be used\n",
      ">>>> model diam_mean =  30.000 (ROIs rescaled to this size during training)\n",
      "~~~ ESTIMATING CELL DIAMETER(S) ~~~\n",
      "estimated cell diameter(s) in 2.79 sec\n",
      ">>> diameter(s) = \n",
      "[ 25.63 ]\n",
      "~~~ FINDING MASKS ~~~\n",
      ">>>> TOTAL TIME 3.45 sec\n",
      "Mon Feb 20 12:31:28 2023: Image # 1, module RunCellpose # 5: CPU_time = 4.54 secs, Wall_time = 4.40 secs\n",
      "/home/roshankern/anaconda3/envs/idrstream_cp/lib/python3.8/site-packages/cellprofiler/modules/measuregranularity.py:342: FutureWarning: `selem` is a deprecated argument name for `erosion`. It will be removed in version 1.0. Please use `footprint` instead.\n",
      "  back_pixels = skimage.morphology.erosion(back_pixels_mask, selem=selem)\n",
      "/home/roshankern/anaconda3/envs/idrstream_cp/lib/python3.8/site-packages/cellprofiler/modules/measuregranularity.py:345: FutureWarning: `selem` is a deprecated argument name for `dilation`. It will be removed in version 1.0. Please use `footprint` instead.\n",
      "  back_pixels = skimage.morphology.dilation(back_pixels_mask, selem=selem)\n",
      "/home/roshankern/anaconda3/envs/idrstream_cp/lib/python3.8/site-packages/cellprofiler/modules/measuregranularity.py:424: FutureWarning: `selem` is a deprecated argument name for `erosion`. It will be removed in version 1.0. Please use `footprint` instead.\n",
      "  ero = skimage.morphology.erosion(ero_mask, selem=footprint)\n",
      "/home/roshankern/anaconda3/envs/idrstream_cp/lib/python3.8/site-packages/cellprofiler/modules/measuregranularity.py:425: FutureWarning: `selem` is a deprecated argument name for `reconstruction`. It will be removed in version 1.0. Please use `footprint` instead.\n",
      "  rec = skimage.morphology.reconstruction(ero, pixels, selem=footprint)\n",
      "Mon Feb 20 12:31:32 2023: Image # 1, module MeasureGranularity # 6: CPU_time = 1.01 secs, Wall_time = 1.01 secs\n",
      "Mon Feb 20 12:31:33 2023: Image # 1, module MeasureObjectIntensity # 7: CPU_time = 0.09 secs, Wall_time = 0.10 secs\n",
      "Mon Feb 20 12:31:33 2023: Image # 1, module MeasureImageIntensity # 8: CPU_time = 0.01 secs, Wall_time = 0.01 secs\n",
      "Mon Feb 20 12:31:33 2023: Image # 1, module MeasureObjectNeighbors # 9: CPU_time = 0.19 secs, Wall_time = 0.19 secs\n",
      "Mon Feb 20 12:31:34 2023: Image # 1, module MeasureObjectIntensityDistribution # 10: CPU_time = 0.35 secs, Wall_time = 0.35 secs\n",
      "Mon Feb 20 12:31:34 2023: Image # 1, module MeasureObjectSizeShape # 11: CPU_time = 0.88 secs, Wall_time = 0.87 secs\n",
      "Mon Feb 20 12:31:35 2023: Image # 1, module MeasureTexture # 12: CPU_time = 10.21 secs, Wall_time = 0.49 secs\n",
      "Mon Feb 20 12:31:35 2023: Image # 1, module ExportToSpreadsheet # 13: CPU_time = 0.00 secs, Wall_time = 0.00 secs\n"
     ]
    },
    {
     "name": "stdout",
     "output_type": "stream",
     "text": [
      "    ImageNumber ObjectNumber AreaShape_Area AreaShape_BoundingBoxArea  \\\n",
      "0             1            1            910                      1218   \n",
      "1             1            2            635                       858   \n",
      "2             1            3            769                       928   \n",
      "3             1            4            633                       841   \n",
      "4             1            5            589                       756   \n",
      "..          ...          ...            ...                       ...   \n",
      "280           1          281            715                      1088   \n",
      "281           1          282            628                       920   \n",
      "282           1          283            422                       638   \n",
      "283           1          284            626                       812   \n",
      "284           1          285            479                       651   \n",
      "\n",
      "    AreaShape_BoundingBoxMaximum_X AreaShape_BoundingBoxMaximum_Y  \\\n",
      "0                              683                             49   \n",
      "1                             1032                             33   \n",
      "2                              912                             40   \n",
      "3                              545                             38   \n",
      "4                              494                             37   \n",
      "..                             ...                            ...   \n",
      "280                            600                           1014   \n",
      "281                            231                           1007   \n",
      "282                            576                           1006   \n",
      "283                           1325                           1017   \n",
      "284                            219                           1020   \n",
      "\n",
      "    AreaShape_BoundingBoxMinimum_X AreaShape_BoundingBoxMinimum_Y  \\\n",
      "0                              654                              7   \n",
      "1                              999                              7   \n",
      "2                              883                              8   \n",
      "3                              516                              9   \n",
      "4                              466                             10   \n",
      "..                             ...                            ...   \n",
      "280                            566                            982   \n",
      "281                            191                            984   \n",
      "282                            547                            984   \n",
      "283                           1296                            989   \n",
      "284                            188                            999   \n",
      "\n",
      "     AreaShape_Center_X  AreaShape_Center_Y  ...  \\\n",
      "0     668.3241758241758   28.46153846153846  ...   \n",
      "1    1014.8362204724409   20.99055118110236  ...   \n",
      "2      896.924577373212  23.665799739921976  ...   \n",
      "3     529.3996840442338  22.406003159557663  ...   \n",
      "4    480.16638370118847  22.820033955857387  ...   \n",
      "..                  ...                 ...  ...   \n",
      "280   582.3622377622378   997.4951048951049  ...   \n",
      "281  211.95541401273886   993.9601910828026  ...   \n",
      "282   560.8009478672985   994.5592417061612  ...   \n",
      "283   1309.346645367412   1002.111821086262  ...   \n",
      "284  203.07724425887264  1009.9916492693111  ...   \n",
      "\n",
      "    Texture_SumEntropy_DNA_3_02_256 Texture_SumEntropy_DNA_3_03_256  \\\n",
      "0                 4.544133108086677               4.395098355723753   \n",
      "1                6.5801193142835475               6.471742406588909   \n",
      "2                   5.6755515903735               5.582889284382482   \n",
      "3                 4.132892121516371                4.10121465406777   \n",
      "4                 6.361763099300223               6.230943976465667   \n",
      "..                              ...                             ...   \n",
      "280               6.109318872391657               6.074379287227433   \n",
      "281               3.672645127411236              3.6129450051419174   \n",
      "282                6.25160629718479               6.308659809449697   \n",
      "283              3.3232624574119796                3.26279825727124   \n",
      "284               4.088289315641396               4.103529189664827   \n",
      "\n",
      "    Texture_SumVariance_DNA_3_00_256 Texture_SumVariance_DNA_3_01_256  \\\n",
      "0                 32.112446636817936               29.669978829782394   \n",
      "1                  851.1456410818428                960.8150743131428   \n",
      "2                 208.54073375738744               169.19360000000052   \n",
      "3                  17.88932640097144               15.993568003264983   \n",
      "4                  578.7420838139187                521.4545851310013   \n",
      "..                               ...                              ...   \n",
      "280                428.4890111467512                372.3978767957151   \n",
      "281               11.840122814455128               10.023207631710932   \n",
      "282                640.1557568488815                474.1937379353885   \n",
      "283                  6.9080622540543                5.925717912237019   \n",
      "284               22.652713572485197                22.45777209642074   \n",
      "\n",
      "    Texture_SumVariance_DNA_3_02_256 Texture_SumVariance_DNA_3_03_256  \\\n",
      "0                 39.236725431806406                31.70158329683568   \n",
      "1                  957.0890370906691                 722.205556261013   \n",
      "2                 225.26148725931216               199.58339843750036   \n",
      "3                 20.459095885596923                19.27360138576941   \n",
      "4                  599.0712832075251                 540.139833795014   \n",
      "..                               ...                              ...   \n",
      "280                386.3013973164143               362.02727401453194   \n",
      "281               10.228453649630893                9.221807502239017   \n",
      "282                568.1001024727093                603.5770639784432   \n",
      "283                6.902681733850528                6.011011245132011   \n",
      "284               22.080043266630526                20.04453420368617   \n",
      "\n",
      "    Texture_Variance_DNA_3_00_256 Texture_Variance_DNA_3_01_256  \\\n",
      "0              10.707958597980038            10.792326922210748   \n",
      "1              266.74915712863003             286.2945021690193   \n",
      "2               68.02485654484485             66.68840000000012   \n",
      "3              6.1196612503349215             6.424149576573832   \n",
      "4              181.78159938485123            184.91428594159925   \n",
      "..                            ...                           ...   \n",
      "280            126.89163889331121            124.98370343316219   \n",
      "281            3.8695289114990885            3.8624555282799875   \n",
      "282            183.76646730210723            176.03623936189638   \n",
      "283            2.5046908402663135            2.5557675635989483   \n",
      "284              7.23649570081362             7.575929510591678   \n",
      "\n",
      "    Texture_Variance_DNA_3_02_256 Texture_Variance_DNA_3_03_256  \n",
      "0               11.32406592660287            11.025850960749864  \n",
      "1              278.76199807863713             271.2321659576842  \n",
      "2               69.52358295852298             68.92163085937489  \n",
      "3               6.470932059634521             6.327978890503665  \n",
      "4              185.81633565336733            187.87969529085922  \n",
      "..                            ...                           ...  \n",
      "280             119.5464875404848             121.1264554673287  \n",
      "281            3.8311802100501495            3.9509742636194574  \n",
      "282             175.7548763644461            183.49047590714713  \n",
      "283            2.5591583740934354             2.518167069471822  \n",
      "284            7.5083829096809325             7.658552029182445  \n",
      "\n",
      "[285 rows x 169 columns]\n"
     ]
    }
   ],
   "source": [
    "stream.run_cp_stream(data_to_process, batch_size=1, start_batch=0, batch_nums=[0])"
   ]
  }
 ],
 "metadata": {
  "kernelspec": {
   "display_name": "Python 3.8.13 ('idrstream_cp')",
   "language": "python",
   "name": "python3"
  },
  "language_info": {
   "codemirror_mode": {
    "name": "ipython",
    "version": 3
   },
   "file_extension": ".py",
   "mimetype": "text/x-python",
   "name": "python",
   "nbconvert_exporter": "python",
   "pygments_lexer": "ipython3",
   "version": "3.8.13"
  },
  "orig_nbformat": 4,
  "vscode": {
   "interpreter": {
    "hash": "00511e853dd305362128087115a302b393aa6752b90db0accb1b4a560f5b1520"
   }
  }
 },
 "nbformat": 4,
 "nbformat_minor": 2
}
