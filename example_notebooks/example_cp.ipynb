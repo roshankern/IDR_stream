{
 "cells": [
  {
   "cell_type": "markdown",
   "metadata": {},
   "source": [
    "# Example of CellProfiler project for idrstream"
   ]
  },
  {
   "cell_type": "markdown",
   "metadata": {},
   "source": [
    "## Import Libraries"
   ]
  },
  {
   "cell_type": "code",
   "execution_count": 1,
   "metadata": {},
   "outputs": [],
   "source": [
    "import pathlib\n",
    "import pandas as pd\n",
    "import shutil\n",
    "\n",
    "from cellpose import core\n",
    "\n",
    "import sys\n",
    "sys.path.append(\"../\")\n",
    "from idrstream.CP_idr import CellProfilerRun"
   ]
  },
  {
   "cell_type": "markdown",
   "metadata": {},
   "source": [
    "## Initialize idrstream"
   ]
  },
  {
   "cell_type": "code",
   "execution_count": 2,
   "metadata": {},
   "outputs": [],
   "source": [
    "# path to users home directory\n",
    "home_dir = pathlib.Path.home()\n",
    "\n",
    "pipeline_path = pathlib.Path(\"example_files/CP_files/mitocheck_idr_cp.cppipe\")\n",
    "# need to fill in on fig\n",
    "plugins_directory = pathlib.Path(\"../idrstream/CP_Plugins\")\n",
    "idr_id = \"idr0013\"\n",
    "tmp_dir = pathlib.Path(\"../tmp_working/\")\n",
    "final_data_dir = pathlib.Path(\"../example_extracted_features/mitocheck_features\")\n",
    "try:\n",
    "    shutil.rmtree(tmp_dir)\n",
    "    # uncomment the line below if you would like to remove the final data directory (e.g. all .csv.gz files)\n",
    "    # shutil.rmtree(final_data_dir)\n",
    "except:\n",
    "    print(\"No files to remove\")\n",
    "\n",
    "stream = CellProfilerRun(pipeline_path, plugins_directory, idr_id, tmp_dir, final_data_dir, log='example_logs/cp_idrstream.log')"
   ]
  },
  {
   "cell_type": "markdown",
   "metadata": {},
   "source": [
    "## Initialize CellProfiler metadata compiler"
   ]
  },
  {
   "cell_type": "code",
   "execution_count": 3,
   "metadata": {},
   "outputs": [],
   "source": [
    "data_to_process_tsv = pathlib.Path(\"example_files/data_to_process.tsv\")\n",
    "metadata_save_path = pathlib.Path(\"example_files/data_to_process.csv\")\n",
    "\n",
    "stream.convert_tsv_to_csv(data_to_process_tsv, metadata_save_path)"
   ]
  },
  {
   "cell_type": "markdown",
   "metadata": {},
   "source": [
    "## Load in metadata"
   ]
  },
  {
   "cell_type": "code",
   "execution_count": 4,
   "metadata": {},
   "outputs": [
    {
     "data": {
      "text/html": [
       "<div>\n",
       "<style scoped>\n",
       "    .dataframe tbody tr th:only-of-type {\n",
       "        vertical-align: middle;\n",
       "    }\n",
       "\n",
       "    .dataframe tbody tr th {\n",
       "        vertical-align: top;\n",
       "    }\n",
       "\n",
       "    .dataframe thead th {\n",
       "        text-align: right;\n",
       "    }\n",
       "</style>\n",
       "<table border=\"1\" class=\"dataframe\">\n",
       "  <thead>\n",
       "    <tr style=\"text-align: right;\">\n",
       "      <th></th>\n",
       "      <th>Plate</th>\n",
       "      <th>Well</th>\n",
       "      <th>Frames</th>\n",
       "      <th>Well Number</th>\n",
       "      <th>Control Type</th>\n",
       "      <th>Original Gene Target</th>\n",
       "      <th>Plate_Map_Name</th>\n",
       "      <th>Gene_Replicate</th>\n",
       "      <th>Site</th>\n",
       "      <th>DNA</th>\n",
       "    </tr>\n",
       "  </thead>\n",
       "  <tbody>\n",
       "    <tr>\n",
       "      <th>0</th>\n",
       "      <td>LT0001_02</td>\n",
       "      <td>A15</td>\n",
       "      <td>43</td>\n",
       "      <td>15</td>\n",
       "      <td>negative control</td>\n",
       "      <td>negative control</td>\n",
       "      <td>LT0001_02_15</td>\n",
       "      <td>1</td>\n",
       "      <td>1</td>\n",
       "      <td>LT0001_02/LT0001_02_15_43.tif</td>\n",
       "    </tr>\n",
       "    <tr>\n",
       "      <th>1</th>\n",
       "      <td>LT0001_02</td>\n",
       "      <td>B2</td>\n",
       "      <td>46</td>\n",
       "      <td>26</td>\n",
       "      <td>negative control</td>\n",
       "      <td>negative control</td>\n",
       "      <td>LT0001_02_26</td>\n",
       "      <td>1</td>\n",
       "      <td>1</td>\n",
       "      <td>LT0001_02/LT0001_02_26_46.tif</td>\n",
       "    </tr>\n",
       "    <tr>\n",
       "      <th>2</th>\n",
       "      <td>LT0001_02</td>\n",
       "      <td>C15</td>\n",
       "      <td>52</td>\n",
       "      <td>63</td>\n",
       "      <td>negative control</td>\n",
       "      <td>negative control</td>\n",
       "      <td>LT0001_02_63</td>\n",
       "      <td>1</td>\n",
       "      <td>1</td>\n",
       "      <td>LT0001_02/LT0001_02_63_52.tif</td>\n",
       "    </tr>\n",
       "    <tr>\n",
       "      <th>3</th>\n",
       "      <td>LT0001_02</td>\n",
       "      <td>D2</td>\n",
       "      <td>31</td>\n",
       "      <td>74</td>\n",
       "      <td>negative control</td>\n",
       "      <td>negative control</td>\n",
       "      <td>LT0001_02_74</td>\n",
       "      <td>1</td>\n",
       "      <td>1</td>\n",
       "      <td>LT0001_02/LT0001_02_74_31.tif</td>\n",
       "    </tr>\n",
       "    <tr>\n",
       "      <th>4</th>\n",
       "      <td>LT0001_02</td>\n",
       "      <td>M16</td>\n",
       "      <td>34</td>\n",
       "      <td>304</td>\n",
       "      <td>negative control</td>\n",
       "      <td>negative control</td>\n",
       "      <td>LT0001_02_304</td>\n",
       "      <td>1</td>\n",
       "      <td>1</td>\n",
       "      <td>LT0001_02/LT0001_02_304_34.tif</td>\n",
       "    </tr>\n",
       "    <tr>\n",
       "      <th>...</th>\n",
       "      <td>...</td>\n",
       "      <td>...</td>\n",
       "      <td>...</td>\n",
       "      <td>...</td>\n",
       "      <td>...</td>\n",
       "      <td>...</td>\n",
       "      <td>...</td>\n",
       "      <td>...</td>\n",
       "      <td>...</td>\n",
       "      <td>...</td>\n",
       "    </tr>\n",
       "    <tr>\n",
       "      <th>3848</th>\n",
       "      <td>LT0603_06</td>\n",
       "      <td>D2</td>\n",
       "      <td>51</td>\n",
       "      <td>74</td>\n",
       "      <td>negative control</td>\n",
       "      <td>negative control</td>\n",
       "      <td>LT0603_06_74</td>\n",
       "      <td>1</td>\n",
       "      <td>1</td>\n",
       "      <td>LT0603_06/LT0603_06_74_51.tif</td>\n",
       "    </tr>\n",
       "    <tr>\n",
       "      <th>3849</th>\n",
       "      <td>LT0603_06</td>\n",
       "      <td>M16</td>\n",
       "      <td>52</td>\n",
       "      <td>304</td>\n",
       "      <td>negative control</td>\n",
       "      <td>negative control</td>\n",
       "      <td>LT0603_06_304</td>\n",
       "      <td>1</td>\n",
       "      <td>1</td>\n",
       "      <td>LT0603_06/LT0603_06_304_52.tif</td>\n",
       "    </tr>\n",
       "    <tr>\n",
       "      <th>3850</th>\n",
       "      <td>LT0603_06</td>\n",
       "      <td>N3</td>\n",
       "      <td>49</td>\n",
       "      <td>315</td>\n",
       "      <td>negative control</td>\n",
       "      <td>negative control</td>\n",
       "      <td>LT0603_06_315</td>\n",
       "      <td>1</td>\n",
       "      <td>1</td>\n",
       "      <td>LT0603_06/LT0603_06_315_49.tif</td>\n",
       "    </tr>\n",
       "    <tr>\n",
       "      <th>3851</th>\n",
       "      <td>LT0603_06</td>\n",
       "      <td>O16</td>\n",
       "      <td>47</td>\n",
       "      <td>352</td>\n",
       "      <td>negative control</td>\n",
       "      <td>negative control</td>\n",
       "      <td>LT0603_06_352</td>\n",
       "      <td>1</td>\n",
       "      <td>1</td>\n",
       "      <td>LT0603_06/LT0603_06_352_47.tif</td>\n",
       "    </tr>\n",
       "    <tr>\n",
       "      <th>3852</th>\n",
       "      <td>LT0603_06</td>\n",
       "      <td>P3</td>\n",
       "      <td>44</td>\n",
       "      <td>363</td>\n",
       "      <td>negative control</td>\n",
       "      <td>negative control</td>\n",
       "      <td>LT0603_06_363</td>\n",
       "      <td>1</td>\n",
       "      <td>1</td>\n",
       "      <td>LT0603_06/LT0603_06_363_44.tif</td>\n",
       "    </tr>\n",
       "  </tbody>\n",
       "</table>\n",
       "<p>3853 rows × 10 columns</p>\n",
       "</div>"
      ],
      "text/plain": [
       "          Plate Well  Frames  Well Number      Control Type  \\\n",
       "0     LT0001_02  A15      43           15  negative control   \n",
       "1     LT0001_02   B2      46           26  negative control   \n",
       "2     LT0001_02  C15      52           63  negative control   \n",
       "3     LT0001_02   D2      31           74  negative control   \n",
       "4     LT0001_02  M16      34          304  negative control   \n",
       "...         ...  ...     ...          ...               ...   \n",
       "3848  LT0603_06   D2      51           74  negative control   \n",
       "3849  LT0603_06  M16      52          304  negative control   \n",
       "3850  LT0603_06   N3      49          315  negative control   \n",
       "3851  LT0603_06  O16      47          352  negative control   \n",
       "3852  LT0603_06   P3      44          363  negative control   \n",
       "\n",
       "     Original Gene Target Plate_Map_Name  Gene_Replicate  Site  \\\n",
       "0        negative control   LT0001_02_15               1     1   \n",
       "1        negative control   LT0001_02_26               1     1   \n",
       "2        negative control   LT0001_02_63               1     1   \n",
       "3        negative control   LT0001_02_74               1     1   \n",
       "4        negative control  LT0001_02_304               1     1   \n",
       "...                   ...            ...             ...   ...   \n",
       "3848     negative control   LT0603_06_74               1     1   \n",
       "3849     negative control  LT0603_06_304               1     1   \n",
       "3850     negative control  LT0603_06_315               1     1   \n",
       "3851     negative control  LT0603_06_352               1     1   \n",
       "3852     negative control  LT0603_06_363               1     1   \n",
       "\n",
       "                                 DNA  \n",
       "0      LT0001_02/LT0001_02_15_43.tif  \n",
       "1      LT0001_02/LT0001_02_26_46.tif  \n",
       "2      LT0001_02/LT0001_02_63_52.tif  \n",
       "3      LT0001_02/LT0001_02_74_31.tif  \n",
       "4     LT0001_02/LT0001_02_304_34.tif  \n",
       "...                              ...  \n",
       "3848   LT0603_06/LT0603_06_74_51.tif  \n",
       "3849  LT0603_06/LT0603_06_304_52.tif  \n",
       "3850  LT0603_06/LT0603_06_315_49.tif  \n",
       "3851  LT0603_06/LT0603_06_352_47.tif  \n",
       "3852  LT0603_06/LT0603_06_363_44.tif  \n",
       "\n",
       "[3853 rows x 10 columns]"
      ]
     },
     "execution_count": 4,
     "metadata": {},
     "output_type": "execute_result"
    }
   ],
   "source": [
    "data_to_process = pd.read_csv(\"example_files/data_to_process.tsv\", sep=\"\\t\", index_col=0)\n",
    "data_to_process"
   ]
  },
  {
   "cell_type": "markdown",
   "metadata": {},
   "source": [
    "## Initialize Aspera downloader"
   ]
  },
  {
   "cell_type": "code",
   "execution_count": 5,
   "metadata": {},
   "outputs": [],
   "source": [
    "# find the path in terminal using `ascli config ascp show`\n",
    "aspera_path = pathlib.Path(f\"{home_dir}/.aspera/ascli/sdk/ascp\")\n",
    "aspera_key_path = pathlib.Path(\"example_files/asperaweb_id_dsa.openssh\")\n",
    "screens_path = pathlib.Path(\"example_files/idr0013-screenA-plates.tsv\")\n",
    "\n",
    "stream.init_downloader(aspera_path, aspera_key_path, screens_path)"
   ]
  },
  {
   "cell_type": "markdown",
   "metadata": {},
   "source": [
    "## Initialize Fiji preprocessor"
   ]
  },
  {
   "cell_type": "code",
   "execution_count": 6,
   "metadata": {},
   "outputs": [
    {
     "name": "stdout",
     "output_type": "stream",
     "text": [
      "[INFO] Overriding Leica ROI Reader; identifier: command:de.biovoxxel.utilities.RoiReader; jar: file:/home/roshankern/Desktop/Fiji.app/plugins/Biovoxxel_Plugins-2.5.6.jar\n"
     ]
    }
   ],
   "source": [
    "fiji_path = pathlib.Path(f\"{home_dir}/Desktop/Fiji.app\")\n",
    "stream.init_preprocessor(fiji_path)"
   ]
  },
  {
   "cell_type": "markdown",
   "metadata": {},
   "source": [
    "## Copy and create CellProfiler files/folders"
   ]
  },
  {
   "cell_type": "code",
   "execution_count": 7,
   "metadata": {},
   "outputs": [],
   "source": [
    "metadata_path = pathlib.Path(\"example_files/data_to_process.csv\")\n",
    "stream.copy_CP_files(metadata_path)"
   ]
  },
  {
   "cell_type": "markdown",
   "metadata": {},
   "source": [
    "## Confirm that GPU is activated for Cellpose to run"
   ]
  },
  {
   "cell_type": "code",
   "execution_count": 8,
   "metadata": {},
   "outputs": [
    {
     "name": "stdout",
     "output_type": "stream",
     "text": [
      ">>> GPU activated? True\n"
     ]
    }
   ],
   "source": [
    "use_GPU = core.use_gpu()\n",
    "print(f\">>> GPU activated? {use_GPU}\")\n",
    "# logger_setup()"
   ]
  },
  {
   "cell_type": "markdown",
   "metadata": {},
   "source": [
    "## Run idrstream batches"
   ]
  },
  {
   "cell_type": "code",
   "execution_count": 9,
   "metadata": {},
   "outputs": [
    {
     "name": "stdout",
     "output_type": "stream",
     "text": [
      "Completed: 87703K bytes transferred in 3 seconds\n",
      " (220675K bits/sec), in 1 file.\n",
      "CellH5Reader initializing /home/roshankern/Desktop/Github/IDR_stream/tmp/downloads/LT0001_02/00015_01.ch5\n",
      "Plate :/sample/0/plate/\n",
      "Well :/sample/0/plate/LT0001_02--ex2005_11_16--sp2005_02_17--tt17--c3/experiment/\n",
      "Site :/sample/0/plate/LT0001_02--ex2005_11_16--sp2005_02_17--tt17--c3/experiment/00015/position/\n",
      "Parse segmentation ROIs for cell object primary__test : 0\n"
     ]
    },
    {
     "name": "stderr",
     "output_type": "stream",
     "text": [
      "Times reported are CPU and Wall-clock times for each module\n",
      "Mon Feb 20 12:09:43 2023: Image # 1, module Images # 1: CPU_time = 0.00 secs, Wall_time = 0.00 secs\n",
      "Mon Feb 20 12:09:43 2023: Image # 1, module Metadata # 2: CPU_time = 0.00 secs, Wall_time = 0.00 secs\n",
      "Mon Feb 20 12:09:43 2023: Image # 1, module NamesAndTypes # 3: CPU_time = 0.42 secs, Wall_time = 0.10 secs\n",
      "Mon Feb 20 12:09:43 2023: Image # 1, module Groups # 4: CPU_time = 0.00 secs, Wall_time = 0.00 secs\n",
      "** TORCH CUDA version installed and working. **\n",
      ">>>> using GPU\n",
      ">> cyto << model set to be used\n",
      ">>>> model diam_mean =  30.000 (ROIs rescaled to this size during training)\n",
      "~~~ ESTIMATING CELL DIAMETER(S) ~~~\n",
      "estimated cell diameter(s) in 2.88 sec\n",
      ">>> diameter(s) = \n",
      "[ 27.03 ]\n",
      "~~~ FINDING MASKS ~~~\n",
      ">>>> TOTAL TIME 3.53 sec\n",
      "Mon Feb 20 12:09:43 2023: Image # 1, module RunCellpose # 5: CPU_time = 4.68 secs, Wall_time = 4.50 secs\n",
      "/home/roshankern/anaconda3/envs/idrstream_cp/lib/python3.8/site-packages/cellprofiler/modules/measuregranularity.py:342: FutureWarning: `selem` is a deprecated argument name for `erosion`. It will be removed in version 1.0. Please use `footprint` instead.\n",
      "  back_pixels = skimage.morphology.erosion(back_pixels_mask, selem=selem)\n",
      "/home/roshankern/anaconda3/envs/idrstream_cp/lib/python3.8/site-packages/cellprofiler/modules/measuregranularity.py:345: FutureWarning: `selem` is a deprecated argument name for `dilation`. It will be removed in version 1.0. Please use `footprint` instead.\n",
      "  back_pixels = skimage.morphology.dilation(back_pixels_mask, selem=selem)\n",
      "/home/roshankern/anaconda3/envs/idrstream_cp/lib/python3.8/site-packages/cellprofiler/modules/measuregranularity.py:424: FutureWarning: `selem` is a deprecated argument name for `erosion`. It will be removed in version 1.0. Please use `footprint` instead.\n",
      "  ero = skimage.morphology.erosion(ero_mask, selem=footprint)\n",
      "/home/roshankern/anaconda3/envs/idrstream_cp/lib/python3.8/site-packages/cellprofiler/modules/measuregranularity.py:425: FutureWarning: `selem` is a deprecated argument name for `reconstruction`. It will be removed in version 1.0. Please use `footprint` instead.\n",
      "  rec = skimage.morphology.reconstruction(ero, pixels, selem=footprint)\n",
      "Mon Feb 20 12:09:48 2023: Image # 1, module MeasureGranularity # 6: CPU_time = 0.99 secs, Wall_time = 0.98 secs\n",
      "Mon Feb 20 12:09:49 2023: Image # 1, module MeasureObjectIntensity # 7: CPU_time = 0.10 secs, Wall_time = 0.09 secs\n",
      "Mon Feb 20 12:09:49 2023: Image # 1, module MeasureImageIntensity # 8: CPU_time = 0.01 secs, Wall_time = 0.01 secs\n",
      "Mon Feb 20 12:09:49 2023: Image # 1, module MeasureObjectNeighbors # 9: CPU_time = 0.19 secs, Wall_time = 0.19 secs\n",
      "Mon Feb 20 12:09:49 2023: Image # 1, module MeasureObjectIntensityDistribution # 10: CPU_time = 0.34 secs, Wall_time = 0.34 secs\n",
      "Mon Feb 20 12:09:50 2023: Image # 1, module MeasureObjectSizeShape # 11: CPU_time = 0.90 secs, Wall_time = 0.89 secs\n",
      "Mon Feb 20 12:09:50 2023: Image # 1, module MeasureTexture # 12: CPU_time = 9.35 secs, Wall_time = 0.45 secs\n",
      "Mon Feb 20 12:09:51 2023: Image # 1, module ExportToSpreadsheet # 13: CPU_time = 0.00 secs, Wall_time = 0.00 secs\n"
     ]
    },
    {
     "name": "stdout",
     "output_type": "stream",
     "text": [
      "    ImageNumber ObjectNumber Metadata_Control Type Metadata_DNA  \\\n",
      "0             1            1                   NaN          NaN   \n",
      "1             1            2                   NaN          NaN   \n",
      "2             1            3                   NaN          NaN   \n",
      "3             1            4                   NaN          NaN   \n",
      "4             1            5                   NaN          NaN   \n",
      "..          ...          ...                   ...          ...   \n",
      "289           1          290                   NaN          NaN   \n",
      "290           1          291                   NaN          NaN   \n",
      "291           1          292                   NaN          NaN   \n",
      "292           1          293                   NaN          NaN   \n",
      "293           1          294                   NaN          NaN   \n",
      "\n",
      "                                 Metadata_FileLocation Metadata_Frame  \\\n",
      "0    file:/home/roshankern/Desktop/Github/IDR_strea...              0   \n",
      "1    file:/home/roshankern/Desktop/Github/IDR_strea...              0   \n",
      "2    file:/home/roshankern/Desktop/Github/IDR_strea...              0   \n",
      "3    file:/home/roshankern/Desktop/Github/IDR_strea...              0   \n",
      "4    file:/home/roshankern/Desktop/Github/IDR_strea...              0   \n",
      "..                                                 ...            ...   \n",
      "289  file:/home/roshankern/Desktop/Github/IDR_strea...              0   \n",
      "290  file:/home/roshankern/Desktop/Github/IDR_strea...              0   \n",
      "291  file:/home/roshankern/Desktop/Github/IDR_strea...              0   \n",
      "292  file:/home/roshankern/Desktop/Github/IDR_strea...              0   \n",
      "293  file:/home/roshankern/Desktop/Github/IDR_strea...              0   \n",
      "\n",
      "    Metadata_Frames Metadata_Gene_Replicate Metadata_Original Gene Target  \\\n",
      "0               NaN                     NaN                           NaN   \n",
      "1               NaN                     NaN                           NaN   \n",
      "2               NaN                     NaN                           NaN   \n",
      "3               NaN                     NaN                           NaN   \n",
      "4               NaN                     NaN                           NaN   \n",
      "..              ...                     ...                           ...   \n",
      "289             NaN                     NaN                           NaN   \n",
      "290             NaN                     NaN                           NaN   \n",
      "291             NaN                     NaN                           NaN   \n",
      "292             NaN                     NaN                           NaN   \n",
      "293             NaN                     NaN                           NaN   \n",
      "\n",
      "    Metadata_Plate  ... Texture_SumEntropy_DNA_3_02_256  \\\n",
      "0              NaN  ...               6.866978376028623   \n",
      "1              NaN  ...                5.80156878150018   \n",
      "2              NaN  ...              5.7912748950201935   \n",
      "3              NaN  ...               6.828563935293914   \n",
      "4              NaN  ...               5.454459136740705   \n",
      "..             ...  ...                             ...   \n",
      "289            NaN  ...               6.158336474519914   \n",
      "290            NaN  ...                 6.6273085587266   \n",
      "291            NaN  ...              2.6460739576080186   \n",
      "292            NaN  ...               4.367505433286324   \n",
      "293            NaN  ...               4.507177583535314   \n",
      "\n",
      "    Texture_SumEntropy_DNA_3_03_256 Texture_SumVariance_DNA_3_00_256  \\\n",
      "0                 6.862455376993154               1885.3290968090878   \n",
      "1                 5.589812531332495               237.42695673310732   \n",
      "2                 5.676852595357767                230.2412613882584   \n",
      "3                 6.745381487109476                1298.929861538787   \n",
      "4                 5.353789732394376               137.88318827798616   \n",
      "..                              ...                              ...   \n",
      "289              6.1057261766197355                 428.673641666669   \n",
      "290               6.289717062039266               1352.5424395321588   \n",
      "291               2.617186518687385               2.1580162048339844   \n",
      "292               4.258331626140668                28.13923205944411   \n",
      "293               4.508579957049218                34.34998038676656   \n",
      "\n",
      "    Texture_SumVariance_DNA_3_01_256 Texture_SumVariance_DNA_3_02_256  \\\n",
      "0                 1642.3821088099958               1709.8169196187137   \n",
      "1                 205.20308956916142               241.59417526740413   \n",
      "2                  202.6961350466113                271.8631138730002   \n",
      "3                 1168.0979669664248               1252.5810266057524   \n",
      "4                 133.06402429110358               146.27639892278626   \n",
      "..                               ...                              ...   \n",
      "289               407.24131152232167               405.59899209976265   \n",
      "290               1807.3927423469395               1551.5271274870247   \n",
      "291                 2.23798807487708               2.3731597015307315   \n",
      "292               24.649559016701062                32.79546977932779   \n",
      "293               29.071708926383167               34.129038564297616   \n",
      "\n",
      "    Texture_SumVariance_DNA_3_03_256 Texture_Variance_DNA_3_00_256  \\\n",
      "0                 1431.4032206377196             548.6651230394809   \n",
      "1                  203.0763321799309             74.04457340787553   \n",
      "2                  216.2727427495588             80.32137729396686   \n",
      "3                  1170.195359903395            398.33672805750757   \n",
      "4                 127.34065296086396             44.00264117596015   \n",
      "..                               ...                           ...   \n",
      "289                361.1773356401386            130.20966041666657   \n",
      "290                 641.724342737356             532.9635566511013   \n",
      "291               2.2329782829613336            0.8739767074584961   \n",
      "292               27.733021525088304             9.276782332678067   \n",
      "293                35.60074074074072            11.097600544846344   \n",
      "\n",
      "    Texture_Variance_DNA_3_01_256 Texture_Variance_DNA_3_02_256  \\\n",
      "0               555.3214887409608             560.1642589744456   \n",
      "1               77.74273667800458               77.535530118221   \n",
      "2               81.44466868228733             81.24168883239531   \n",
      "3              415.62728361977815               397.02464775214   \n",
      "4              45.893526234066144             45.31046249461218   \n",
      "..                            ...                           ...   \n",
      "289               135.34516033208            130.94227379813628   \n",
      "290             550.4312213010198             532.6198333423438   \n",
      "291            0.9057703106447317            0.8853549349429155   \n",
      "292             9.247150028147885             9.985679742566589   \n",
      "293            11.500451503440502             11.33731379269895   \n",
      "\n",
      "    Texture_Variance_DNA_3_03_256  \n",
      "0               551.9947925012016  \n",
      "1                75.7882006920413  \n",
      "2               81.83163505447828  \n",
      "3               412.6111871641124  \n",
      "4               45.60065910798443  \n",
      "..                            ...  \n",
      "289            132.37521626297655  \n",
      "290             614.0923006376108  \n",
      "291            0.9018028529489257  \n",
      "292             9.698499283711058  \n",
      "293            11.808518518518568  \n",
      "\n",
      "[294 rows x 183 columns]\n"
     ]
    }
   ],
   "source": [
    "stream.run_cp_stream(data_to_process, batch_size=1, start_batch=0, batch_nums=[0])"
   ]
  }
 ],
 "metadata": {
  "kernelspec": {
   "display_name": "Python 3.8.13 ('idrstream_cp')",
   "language": "python",
   "name": "python3"
  },
  "language_info": {
   "codemirror_mode": {
    "name": "ipython",
    "version": 3
   },
   "file_extension": ".py",
   "mimetype": "text/x-python",
   "name": "python",
   "nbconvert_exporter": "python",
   "pygments_lexer": "ipython3",
   "version": "3.8.13"
  },
  "orig_nbformat": 4,
  "vscode": {
   "interpreter": {
    "hash": "00511e853dd305362128087115a302b393aa6752b90db0accb1b4a560f5b1520"
   }
  }
 },
 "nbformat": 4,
 "nbformat_minor": 2
}
